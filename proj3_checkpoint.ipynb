{
 "cells": [
  {
   "cell_type": "code",
   "execution_count": 198,
   "id": "10b406d5-9351-49b5-924f-1e34c1329f0a",
   "metadata": {},
   "outputs": [],
   "source": [
    "import pandas as pd\n",
    "import matplotlib.pyplot as plt\n",
    "import plotly.express as px\n",
    "import plotly.graph_objects as go\n",
    "import numpy as np"
   ]
  },
  {
   "cell_type": "code",
   "execution_count": 320,
   "id": "d00a2e21-514b-47f3-9baf-ddef4d765209",
   "metadata": {},
   "outputs": [],
   "source": [
    "data = pd.read_csv(\"ColombiaMetadata.csv\") #predicting dengue cases\n",
    "data2019 = data[['Municipality code','Municipality','Population2019','Cases2019','NumberofhospitalsperKm2', 'Age5-14(%)',\t'Age15-29(%)', 'Age>30(%)', 'AfrocolombianPopulation(%)', 'IndianPopulation(%)', 'PeoplewithDisabilities(%)',\t'Peoplewhocannotreadorwrite(%)', 'Secondary/HigherEducation(%)', 'Employedpopulation(%)', 'Unemployedpopulation(%)', 'Peopledoinghousework(%)', 'Retiredpeople(%)', 'Men(%)', 'Women(%)', 'Householdswithoutwateraccess(%)', 'Householdswithoutinternetaccess(%)']]"
   ]
  },
  {
   "cell_type": "code",
   "execution_count": 220,
   "id": "498a0d04-a72f-4e38-92c8-420d206388f2",
   "metadata": {},
   "outputs": [],
   "source": [
    "data2019_race = data2019[['Municipality code','Municipality','Population2019', 'Cases2019','AfrocolombianPopulation(%)', 'IndianPopulation(%)']]"
   ]
  },
  {
   "cell_type": "code",
   "execution_count": 244,
   "id": "9fd05feb-831f-4571-8234-835e8fc3f98c",
   "metadata": {},
   "outputs": [
    {
     "data": {
      "text/html": [
       "<div>\n",
       "<style scoped>\n",
       "    .dataframe tbody tr th:only-of-type {\n",
       "        vertical-align: middle;\n",
       "    }\n",
       "\n",
       "    .dataframe tbody tr th {\n",
       "        vertical-align: top;\n",
       "    }\n",
       "\n",
       "    .dataframe thead th {\n",
       "        text-align: right;\n",
       "    }\n",
       "</style>\n",
       "<table border=\"1\" class=\"dataframe\">\n",
       "  <thead>\n",
       "    <tr style=\"text-align: right;\">\n",
       "      <th></th>\n",
       "      <th>Cases2019</th>\n",
       "      <th>Municipality</th>\n",
       "    </tr>\n",
       "  </thead>\n",
       "  <tbody>\n",
       "    <tr>\n",
       "      <th>0</th>\n",
       "      <td>1276</td>\n",
       "      <td>Medellín</td>\n",
       "    </tr>\n",
       "    <tr>\n",
       "      <th>1</th>\n",
       "      <td>0</td>\n",
       "      <td>Abejorral</td>\n",
       "    </tr>\n",
       "    <tr>\n",
       "      <th>2</th>\n",
       "      <td>2</td>\n",
       "      <td>Abriaquí</td>\n",
       "    </tr>\n",
       "    <tr>\n",
       "      <th>3</th>\n",
       "      <td>0</td>\n",
       "      <td>Alejandría</td>\n",
       "    </tr>\n",
       "    <tr>\n",
       "      <th>4</th>\n",
       "      <td>16</td>\n",
       "      <td>Amagá</td>\n",
       "    </tr>\n",
       "    <tr>\n",
       "      <th>...</th>\n",
       "      <td>...</td>\n",
       "      <td>...</td>\n",
       "    </tr>\n",
       "    <tr>\n",
       "      <th>1116</th>\n",
       "      <td>0</td>\n",
       "      <td>Yavaraté</td>\n",
       "    </tr>\n",
       "    <tr>\n",
       "      <th>1117</th>\n",
       "      <td>214</td>\n",
       "      <td>Puerto Carreño</td>\n",
       "    </tr>\n",
       "    <tr>\n",
       "      <th>1118</th>\n",
       "      <td>92</td>\n",
       "      <td>La Primavera</td>\n",
       "    </tr>\n",
       "    <tr>\n",
       "      <th>1119</th>\n",
       "      <td>31</td>\n",
       "      <td>Santa Rosalía</td>\n",
       "    </tr>\n",
       "    <tr>\n",
       "      <th>1120</th>\n",
       "      <td>39</td>\n",
       "      <td>Cumaribo</td>\n",
       "    </tr>\n",
       "  </tbody>\n",
       "</table>\n",
       "<p>1121 rows × 2 columns</p>\n",
       "</div>"
      ],
      "text/plain": [
       "      Cases2019    Municipality\n",
       "0          1276        Medellín\n",
       "1             0       Abejorral\n",
       "2             2        Abriaquí\n",
       "3             0      Alejandría\n",
       "4            16           Amagá\n",
       "...         ...             ...\n",
       "1116          0        Yavaraté\n",
       "1117        214  Puerto Carreño\n",
       "1118         92    La Primavera\n",
       "1119         31   Santa Rosalía\n",
       "1120         39        Cumaribo\n",
       "\n",
       "[1121 rows x 2 columns]"
      ]
     },
     "execution_count": 244,
     "metadata": {},
     "output_type": "execute_result"
    }
   ],
   "source": [
    "#data with minority groups in colombia\n",
    "data2019_race\n",
    "data2019[['Cases2019', 'Municipality']]"
   ]
  },
  {
   "cell_type": "code",
   "execution_count": null,
   "id": "9ac73ce5-890a-44f3-8ba1-0e07b4dd9e34",
   "metadata": {},
   "outputs": [],
   "source": [
    "# find duplicate rows based on the Municipality column\n",
    "data[data.duplicated(subset=['Municipality'], keep=False)].sort_values(by='Municipality').loc[data['Population2019'] > 12800]"
   ]
  },
  {
   "cell_type": "code",
   "execution_count": 310,
   "id": "b84fc6ab-1aca-45d2-b854-dfc802d0c9cc",
   "metadata": {},
   "outputs": [],
   "source": [
    "import json\n",
    "data2019= data2019[['Municipality', 'Cases2019', 'Secondary/HigherEducation(%)']]\n",
    "\n",
    "# Rename columns for easier access in JSON\n",
    "data2019 = data2019.rename(columns={\n",
    "    \"Cases2019\": \"cases\",\n",
    "    \"Employedpopulation(%)\": \"employed\",\n",
    "    \"Secondary/HigherEducation(%)\": \"highered\"\n",
    "})\n",
    "\n",
    "# Save as a new CSV or JSON (for D3.js)\n",
    "#data2019.to_csv(\"dengue_2019.csv\", index=False)  \n",
    "#data2019.to_json(\"dengue_2019.json\", orient=\"records\")  "
   ]
  },
  {
   "cell_type": "code",
   "execution_count": null,
   "id": "1382e4f3-c622-44b6-b1a6-ab2850253cea",
   "metadata": {},
   "outputs": [],
   "source": []
  },
  {
   "cell_type": "code",
   "execution_count": null,
   "id": "537e0e75-4647-45a1-866c-acaf52bd3952",
   "metadata": {},
   "outputs": [],
   "source": []
  },
  {
   "cell_type": "code",
   "execution_count": null,
   "id": "aa286f14-7a15-4524-8bf5-13ed23a3be81",
   "metadata": {},
   "outputs": [],
   "source": []
  }
 ],
 "metadata": {
  "kernelspec": {
   "display_name": "Python [conda env:base] *",
   "language": "python",
   "name": "conda-base-py"
  },
  "language_info": {
   "codemirror_mode": {
    "name": "ipython",
    "version": 3
   },
   "file_extension": ".py",
   "mimetype": "text/x-python",
   "name": "python",
   "nbconvert_exporter": "python",
   "pygments_lexer": "ipython3",
   "version": "3.12.7"
  }
 },
 "nbformat": 4,
 "nbformat_minor": 5
}
